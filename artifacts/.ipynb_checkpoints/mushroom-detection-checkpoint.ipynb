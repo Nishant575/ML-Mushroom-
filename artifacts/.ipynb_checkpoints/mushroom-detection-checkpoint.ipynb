{
 "cells": [
  {
   "cell_type": "code",
   "execution_count": 9,
   "metadata": {
    "_cell_guid": "b1076dfc-b9ad-4769-8c92-a6c4dae69d19",
    "_uuid": "8f2839f25d086af736a60e9eeb907d3b93b6e0e5",
    "execution": {
     "iopub.execute_input": "2022-09-09T10:02:32.654724Z",
     "iopub.status.busy": "2022-09-09T10:02:32.654301Z",
     "iopub.status.idle": "2022-09-09T10:02:33.598706Z",
     "shell.execute_reply": "2022-09-09T10:02:33.597042Z",
     "shell.execute_reply.started": "2022-09-09T10:02:32.654638Z"
    }
   },
   "outputs": [],
   "source": [
    "# This Python 3 environment comes with many helpful analytics libraries installed\n",
    "# It is defined by the kaggle/python Docker image: https://github.com/kaggle/docker-python\n",
    "# For example, here's several helpful packages to load\n",
    "\n",
    "import numpy as np # linear algebra\n",
    "import pandas as pd # data processing, CSV file I/O (e.g. pd.read_csv)\n",
    "import seaborn as sns\n",
    "import matplotlib.pyplot as plt\n",
    "# Input data files are available in the read-only \"../input/\" directory\n",
    "# For example, running this (by clicking run or pressing Shift+Enter) will list all files under the input directory\n",
    "\n",
    "import os\n",
    "for dirname, _, filenames in os.walk('/kaggle/input'):\n",
    "    for filename in filenames:\n",
    "        print(os.path.join(dirname, filename))\n",
    "\n",
    "# You can write up to 20GB to the current directory (/kaggle/working/) that gets preserved as output when you create a version using \"Save & Run All\" \n",
    "# You can also write temporary files to /kaggle/temp/, but they won't be saved outside of the current session"
   ]
  },
  {
   "cell_type": "code",
   "execution_count": 10,
   "metadata": {
    "execution": {
     "iopub.execute_input": "2022-09-09T10:03:35.327243Z",
     "iopub.status.busy": "2022-09-09T10:03:35.326258Z",
     "iopub.status.idle": "2022-09-09T10:03:35.385897Z",
     "shell.execute_reply": "2022-09-09T10:03:35.385091Z",
     "shell.execute_reply.started": "2022-09-09T10:03:35.327201Z"
    }
   },
   "outputs": [
    {
     "data": {
      "text/html": [
       "<div>\n",
       "<style scoped>\n",
       "    .dataframe tbody tr th:only-of-type {\n",
       "        vertical-align: middle;\n",
       "    }\n",
       "\n",
       "    .dataframe tbody tr th {\n",
       "        vertical-align: top;\n",
       "    }\n",
       "\n",
       "    .dataframe thead th {\n",
       "        text-align: right;\n",
       "    }\n",
       "</style>\n",
       "<table border=\"1\" class=\"dataframe\">\n",
       "  <thead>\n",
       "    <tr style=\"text-align: right;\">\n",
       "      <th></th>\n",
       "      <th>class</th>\n",
       "      <th>cap-shape</th>\n",
       "      <th>cap-surface</th>\n",
       "      <th>cap-color</th>\n",
       "      <th>bruises</th>\n",
       "      <th>odor</th>\n",
       "      <th>gill-attachment</th>\n",
       "      <th>gill-spacing</th>\n",
       "      <th>gill-size</th>\n",
       "      <th>gill-color</th>\n",
       "      <th>...</th>\n",
       "      <th>stalk-surface-below-ring</th>\n",
       "      <th>stalk-color-above-ring</th>\n",
       "      <th>stalk-color-below-ring</th>\n",
       "      <th>veil-type</th>\n",
       "      <th>veil-color</th>\n",
       "      <th>ring-number</th>\n",
       "      <th>ring-type</th>\n",
       "      <th>spore-print-color</th>\n",
       "      <th>population</th>\n",
       "      <th>habitat</th>\n",
       "    </tr>\n",
       "  </thead>\n",
       "  <tbody>\n",
       "    <tr>\n",
       "      <th>0</th>\n",
       "      <td>p</td>\n",
       "      <td>x</td>\n",
       "      <td>s</td>\n",
       "      <td>n</td>\n",
       "      <td>t</td>\n",
       "      <td>p</td>\n",
       "      <td>f</td>\n",
       "      <td>c</td>\n",
       "      <td>n</td>\n",
       "      <td>k</td>\n",
       "      <td>...</td>\n",
       "      <td>s</td>\n",
       "      <td>w</td>\n",
       "      <td>w</td>\n",
       "      <td>p</td>\n",
       "      <td>w</td>\n",
       "      <td>o</td>\n",
       "      <td>p</td>\n",
       "      <td>k</td>\n",
       "      <td>s</td>\n",
       "      <td>u</td>\n",
       "    </tr>\n",
       "    <tr>\n",
       "      <th>1</th>\n",
       "      <td>e</td>\n",
       "      <td>x</td>\n",
       "      <td>s</td>\n",
       "      <td>y</td>\n",
       "      <td>t</td>\n",
       "      <td>a</td>\n",
       "      <td>f</td>\n",
       "      <td>c</td>\n",
       "      <td>b</td>\n",
       "      <td>k</td>\n",
       "      <td>...</td>\n",
       "      <td>s</td>\n",
       "      <td>w</td>\n",
       "      <td>w</td>\n",
       "      <td>p</td>\n",
       "      <td>w</td>\n",
       "      <td>o</td>\n",
       "      <td>p</td>\n",
       "      <td>n</td>\n",
       "      <td>n</td>\n",
       "      <td>g</td>\n",
       "    </tr>\n",
       "    <tr>\n",
       "      <th>2</th>\n",
       "      <td>e</td>\n",
       "      <td>b</td>\n",
       "      <td>s</td>\n",
       "      <td>w</td>\n",
       "      <td>t</td>\n",
       "      <td>l</td>\n",
       "      <td>f</td>\n",
       "      <td>c</td>\n",
       "      <td>b</td>\n",
       "      <td>n</td>\n",
       "      <td>...</td>\n",
       "      <td>s</td>\n",
       "      <td>w</td>\n",
       "      <td>w</td>\n",
       "      <td>p</td>\n",
       "      <td>w</td>\n",
       "      <td>o</td>\n",
       "      <td>p</td>\n",
       "      <td>n</td>\n",
       "      <td>n</td>\n",
       "      <td>m</td>\n",
       "    </tr>\n",
       "    <tr>\n",
       "      <th>3</th>\n",
       "      <td>p</td>\n",
       "      <td>x</td>\n",
       "      <td>y</td>\n",
       "      <td>w</td>\n",
       "      <td>t</td>\n",
       "      <td>p</td>\n",
       "      <td>f</td>\n",
       "      <td>c</td>\n",
       "      <td>n</td>\n",
       "      <td>n</td>\n",
       "      <td>...</td>\n",
       "      <td>s</td>\n",
       "      <td>w</td>\n",
       "      <td>w</td>\n",
       "      <td>p</td>\n",
       "      <td>w</td>\n",
       "      <td>o</td>\n",
       "      <td>p</td>\n",
       "      <td>k</td>\n",
       "      <td>s</td>\n",
       "      <td>u</td>\n",
       "    </tr>\n",
       "    <tr>\n",
       "      <th>4</th>\n",
       "      <td>e</td>\n",
       "      <td>x</td>\n",
       "      <td>s</td>\n",
       "      <td>g</td>\n",
       "      <td>f</td>\n",
       "      <td>n</td>\n",
       "      <td>f</td>\n",
       "      <td>w</td>\n",
       "      <td>b</td>\n",
       "      <td>k</td>\n",
       "      <td>...</td>\n",
       "      <td>s</td>\n",
       "      <td>w</td>\n",
       "      <td>w</td>\n",
       "      <td>p</td>\n",
       "      <td>w</td>\n",
       "      <td>o</td>\n",
       "      <td>e</td>\n",
       "      <td>n</td>\n",
       "      <td>a</td>\n",
       "      <td>g</td>\n",
       "    </tr>\n",
       "  </tbody>\n",
       "</table>\n",
       "<p>5 rows × 23 columns</p>\n",
       "</div>"
      ],
      "text/plain": [
       "  class cap-shape cap-surface cap-color bruises odor gill-attachment  \\\n",
       "0     p         x           s         n       t    p               f   \n",
       "1     e         x           s         y       t    a               f   \n",
       "2     e         b           s         w       t    l               f   \n",
       "3     p         x           y         w       t    p               f   \n",
       "4     e         x           s         g       f    n               f   \n",
       "\n",
       "  gill-spacing gill-size gill-color  ... stalk-surface-below-ring  \\\n",
       "0            c         n          k  ...                        s   \n",
       "1            c         b          k  ...                        s   \n",
       "2            c         b          n  ...                        s   \n",
       "3            c         n          n  ...                        s   \n",
       "4            w         b          k  ...                        s   \n",
       "\n",
       "  stalk-color-above-ring stalk-color-below-ring veil-type veil-color  \\\n",
       "0                      w                      w         p          w   \n",
       "1                      w                      w         p          w   \n",
       "2                      w                      w         p          w   \n",
       "3                      w                      w         p          w   \n",
       "4                      w                      w         p          w   \n",
       "\n",
       "  ring-number ring-type spore-print-color population habitat  \n",
       "0           o         p                 k          s       u  \n",
       "1           o         p                 n          n       g  \n",
       "2           o         p                 n          n       m  \n",
       "3           o         p                 k          s       u  \n",
       "4           o         e                 n          a       g  \n",
       "\n",
       "[5 rows x 23 columns]"
      ]
     },
     "execution_count": 10,
     "metadata": {},
     "output_type": "execute_result"
    }
   ],
   "source": [
    "mush_data = pd.read_csv('mushrooms.csv')\n",
    "mush_data.head()"
   ]
  },
  {
   "cell_type": "code",
   "execution_count": 11,
   "metadata": {
    "execution": {
     "iopub.execute_input": "2022-09-09T10:03:45.973100Z",
     "iopub.status.busy": "2022-09-09T10:03:45.972416Z",
     "iopub.status.idle": "2022-09-09T10:03:45.988044Z",
     "shell.execute_reply": "2022-09-09T10:03:45.987356Z",
     "shell.execute_reply.started": "2022-09-09T10:03:45.973071Z"
    }
   },
   "outputs": [
    {
     "data": {
      "text/plain": [
       "class                       0\n",
       "cap-shape                   0\n",
       "cap-surface                 0\n",
       "cap-color                   0\n",
       "bruises                     0\n",
       "odor                        0\n",
       "gill-attachment             0\n",
       "gill-spacing                0\n",
       "gill-size                   0\n",
       "gill-color                  0\n",
       "stalk-shape                 0\n",
       "stalk-root                  0\n",
       "stalk-surface-above-ring    0\n",
       "stalk-surface-below-ring    0\n",
       "stalk-color-above-ring      0\n",
       "stalk-color-below-ring      0\n",
       "veil-type                   0\n",
       "veil-color                  0\n",
       "ring-number                 0\n",
       "ring-type                   0\n",
       "spore-print-color           0\n",
       "population                  0\n",
       "habitat                     0\n",
       "dtype: int64"
      ]
     },
     "execution_count": 11,
     "metadata": {},
     "output_type": "execute_result"
    }
   ],
   "source": [
    "mush_data.isnull().sum()"
   ]
  },
  {
   "cell_type": "code",
   "execution_count": 12,
   "metadata": {
    "execution": {
     "iopub.execute_input": "2022-09-09T10:03:54.621831Z",
     "iopub.status.busy": "2022-09-09T10:03:54.621461Z",
     "iopub.status.idle": "2022-09-09T10:03:54.629530Z",
     "shell.execute_reply": "2022-09-09T10:03:54.628421Z",
     "shell.execute_reply.started": "2022-09-09T10:03:54.621801Z"
    }
   },
   "outputs": [
    {
     "data": {
      "text/plain": [
       "(8124, 23)"
      ]
     },
     "execution_count": 12,
     "metadata": {},
     "output_type": "execute_result"
    }
   ],
   "source": [
    "mush_data.shape"
   ]
  },
  {
   "cell_type": "code",
   "execution_count": 13,
   "metadata": {
    "execution": {
     "iopub.execute_input": "2022-09-09T10:04:05.611687Z",
     "iopub.status.busy": "2022-09-09T10:04:05.611285Z",
     "iopub.status.idle": "2022-09-09T10:04:05.641359Z",
     "shell.execute_reply": "2022-09-09T10:04:05.640666Z",
     "shell.execute_reply.started": "2022-09-09T10:04:05.611650Z"
    }
   },
   "outputs": [
    {
     "name": "stdout",
     "output_type": "stream",
     "text": [
      "Unique Values in:  class\n",
      "['p' 'e']\n",
      "Unique Values in:  cap-shape\n",
      "['x' 'b' 's' 'f' 'k' 'c']\n",
      "Unique Values in:  cap-surface\n",
      "['s' 'y' 'f' 'g']\n",
      "Unique Values in:  cap-color\n",
      "['n' 'y' 'w' 'g' 'e' 'p' 'b' 'u' 'c' 'r']\n",
      "Unique Values in:  bruises\n",
      "['t' 'f']\n",
      "Unique Values in:  odor\n",
      "['p' 'a' 'l' 'n' 'f' 'c' 'y' 's' 'm']\n",
      "Unique Values in:  gill-attachment\n",
      "['f' 'a']\n",
      "Unique Values in:  gill-spacing\n",
      "['c' 'w']\n",
      "Unique Values in:  gill-size\n",
      "['n' 'b']\n",
      "Unique Values in:  gill-color\n",
      "['k' 'n' 'g' 'p' 'w' 'h' 'u' 'e' 'b' 'r' 'y' 'o']\n",
      "Unique Values in:  stalk-shape\n",
      "['e' 't']\n",
      "Unique Values in:  stalk-root\n",
      "['e' 'c' 'b' 'r' '?']\n",
      "Unique Values in:  stalk-surface-above-ring\n",
      "['s' 'f' 'k' 'y']\n",
      "Unique Values in:  stalk-surface-below-ring\n",
      "['s' 'f' 'y' 'k']\n",
      "Unique Values in:  stalk-color-above-ring\n",
      "['w' 'g' 'p' 'n' 'b' 'e' 'o' 'c' 'y']\n",
      "Unique Values in:  stalk-color-below-ring\n",
      "['w' 'p' 'g' 'b' 'n' 'e' 'y' 'o' 'c']\n",
      "Unique Values in:  veil-type\n",
      "['p']\n",
      "Unique Values in:  veil-color\n",
      "['w' 'n' 'o' 'y']\n",
      "Unique Values in:  ring-number\n",
      "['o' 't' 'n']\n",
      "Unique Values in:  ring-type\n",
      "['p' 'e' 'l' 'f' 'n']\n",
      "Unique Values in:  spore-print-color\n",
      "['k' 'n' 'u' 'h' 'w' 'r' 'o' 'y' 'b']\n",
      "Unique Values in:  population\n",
      "['s' 'n' 'a' 'v' 'y' 'c']\n",
      "Unique Values in:  habitat\n",
      "['u' 'g' 'm' 'd' 'p' 'w' 'l']\n"
     ]
    }
   ],
   "source": [
    "for col in mush_data:\n",
    "    print(\"Unique Values in: \",col)\n",
    "    print(mush_data[col].unique())"
   ]
  },
  {
   "cell_type": "code",
   "execution_count": null,
   "metadata": {
    "execution": {
     "iopub.execute_input": "2022-09-09T10:21:08.269923Z",
     "iopub.status.busy": "2022-09-09T10:21:08.267209Z",
     "iopub.status.idle": "2022-09-09T10:21:08.977798Z",
     "shell.execute_reply": "2022-09-09T10:21:08.976392Z",
     "shell.execute_reply.started": "2022-09-09T10:21:08.269857Z"
    }
   },
   "outputs": [],
   "source": []
  },
  {
   "cell_type": "code",
   "execution_count": null,
   "metadata": {
    "execution": {
     "iopub.execute_input": "2022-09-09T10:36:27.334013Z",
     "iopub.status.busy": "2022-09-09T10:36:27.333533Z",
     "iopub.status.idle": "2022-09-09T10:36:27.344464Z",
     "shell.execute_reply": "2022-09-09T10:36:27.343327Z",
     "shell.execute_reply.started": "2022-09-09T10:36:27.333978Z"
    }
   },
   "outputs": [],
   "source": []
  },
  {
   "cell_type": "code",
   "execution_count": 14,
   "metadata": {
    "execution": {
     "iopub.execute_input": "2022-09-09T11:01:26.168252Z",
     "iopub.status.busy": "2022-09-09T11:01:26.167379Z",
     "iopub.status.idle": "2022-09-09T11:01:26.226750Z",
     "shell.execute_reply": "2022-09-09T11:01:26.225217Z",
     "shell.execute_reply.started": "2022-09-09T11:01:26.168214Z"
    }
   },
   "outputs": [
    {
     "data": {
      "text/plain": [
       "array([[1., 5., 2., ..., 2., 3., 5.],\n",
       "       [0., 5., 2., ..., 3., 2., 1.],\n",
       "       [0., 0., 2., ..., 3., 2., 3.],\n",
       "       ...,\n",
       "       [0., 2., 2., ..., 0., 1., 2.],\n",
       "       [1., 3., 3., ..., 7., 4., 2.],\n",
       "       [0., 5., 2., ..., 4., 1., 2.]])"
      ]
     },
     "execution_count": 14,
     "metadata": {},
     "output_type": "execute_result"
    }
   ],
   "source": [
    "from sklearn.preprocessing import OrdinalEncoder\n",
    "encoder = OrdinalEncoder()\n",
    "\n",
    "mush_temp = mush_data\n",
    "\n",
    "mush_data = encoder.fit_transform(mush_data)\n",
    "\n",
    "mush_data\n",
    "\n"
   ]
  },
  {
   "cell_type": "code",
   "execution_count": 15,
   "metadata": {
    "execution": {
     "iopub.execute_input": "2022-09-09T11:01:55.683444Z",
     "iopub.status.busy": "2022-09-09T11:01:55.683010Z",
     "iopub.status.idle": "2022-09-09T11:01:55.690043Z",
     "shell.execute_reply": "2022-09-09T11:01:55.688394Z",
     "shell.execute_reply.started": "2022-09-09T11:01:55.683409Z"
    }
   },
   "outputs": [],
   "source": [
    "mush_data = pd.DataFrame(mush_data,columns=mush_temp.columns)\n"
   ]
  },
  {
   "cell_type": "code",
   "execution_count": 16,
   "metadata": {
    "execution": {
     "iopub.execute_input": "2022-09-09T11:02:16.399055Z",
     "iopub.status.busy": "2022-09-09T11:02:16.398627Z",
     "iopub.status.idle": "2022-09-09T11:02:16.428062Z",
     "shell.execute_reply": "2022-09-09T11:02:16.427072Z",
     "shell.execute_reply.started": "2022-09-09T11:02:16.399023Z"
    }
   },
   "outputs": [
    {
     "data": {
      "text/html": [
       "<div>\n",
       "<style scoped>\n",
       "    .dataframe tbody tr th:only-of-type {\n",
       "        vertical-align: middle;\n",
       "    }\n",
       "\n",
       "    .dataframe tbody tr th {\n",
       "        vertical-align: top;\n",
       "    }\n",
       "\n",
       "    .dataframe thead th {\n",
       "        text-align: right;\n",
       "    }\n",
       "</style>\n",
       "<table border=\"1\" class=\"dataframe\">\n",
       "  <thead>\n",
       "    <tr style=\"text-align: right;\">\n",
       "      <th></th>\n",
       "      <th>class</th>\n",
       "      <th>cap-shape</th>\n",
       "      <th>cap-surface</th>\n",
       "      <th>cap-color</th>\n",
       "      <th>bruises</th>\n",
       "      <th>odor</th>\n",
       "      <th>gill-attachment</th>\n",
       "      <th>gill-spacing</th>\n",
       "      <th>gill-size</th>\n",
       "      <th>gill-color</th>\n",
       "      <th>...</th>\n",
       "      <th>stalk-surface-below-ring</th>\n",
       "      <th>stalk-color-above-ring</th>\n",
       "      <th>stalk-color-below-ring</th>\n",
       "      <th>veil-type</th>\n",
       "      <th>veil-color</th>\n",
       "      <th>ring-number</th>\n",
       "      <th>ring-type</th>\n",
       "      <th>spore-print-color</th>\n",
       "      <th>population</th>\n",
       "      <th>habitat</th>\n",
       "    </tr>\n",
       "  </thead>\n",
       "  <tbody>\n",
       "    <tr>\n",
       "      <th>0</th>\n",
       "      <td>1.0</td>\n",
       "      <td>5.0</td>\n",
       "      <td>2.0</td>\n",
       "      <td>4.0</td>\n",
       "      <td>1.0</td>\n",
       "      <td>6.0</td>\n",
       "      <td>1.0</td>\n",
       "      <td>0.0</td>\n",
       "      <td>1.0</td>\n",
       "      <td>4.0</td>\n",
       "      <td>...</td>\n",
       "      <td>2.0</td>\n",
       "      <td>7.0</td>\n",
       "      <td>7.0</td>\n",
       "      <td>0.0</td>\n",
       "      <td>2.0</td>\n",
       "      <td>1.0</td>\n",
       "      <td>4.0</td>\n",
       "      <td>2.0</td>\n",
       "      <td>3.0</td>\n",
       "      <td>5.0</td>\n",
       "    </tr>\n",
       "    <tr>\n",
       "      <th>1</th>\n",
       "      <td>0.0</td>\n",
       "      <td>5.0</td>\n",
       "      <td>2.0</td>\n",
       "      <td>9.0</td>\n",
       "      <td>1.0</td>\n",
       "      <td>0.0</td>\n",
       "      <td>1.0</td>\n",
       "      <td>0.0</td>\n",
       "      <td>0.0</td>\n",
       "      <td>4.0</td>\n",
       "      <td>...</td>\n",
       "      <td>2.0</td>\n",
       "      <td>7.0</td>\n",
       "      <td>7.0</td>\n",
       "      <td>0.0</td>\n",
       "      <td>2.0</td>\n",
       "      <td>1.0</td>\n",
       "      <td>4.0</td>\n",
       "      <td>3.0</td>\n",
       "      <td>2.0</td>\n",
       "      <td>1.0</td>\n",
       "    </tr>\n",
       "    <tr>\n",
       "      <th>2</th>\n",
       "      <td>0.0</td>\n",
       "      <td>0.0</td>\n",
       "      <td>2.0</td>\n",
       "      <td>8.0</td>\n",
       "      <td>1.0</td>\n",
       "      <td>3.0</td>\n",
       "      <td>1.0</td>\n",
       "      <td>0.0</td>\n",
       "      <td>0.0</td>\n",
       "      <td>5.0</td>\n",
       "      <td>...</td>\n",
       "      <td>2.0</td>\n",
       "      <td>7.0</td>\n",
       "      <td>7.0</td>\n",
       "      <td>0.0</td>\n",
       "      <td>2.0</td>\n",
       "      <td>1.0</td>\n",
       "      <td>4.0</td>\n",
       "      <td>3.0</td>\n",
       "      <td>2.0</td>\n",
       "      <td>3.0</td>\n",
       "    </tr>\n",
       "    <tr>\n",
       "      <th>3</th>\n",
       "      <td>1.0</td>\n",
       "      <td>5.0</td>\n",
       "      <td>3.0</td>\n",
       "      <td>8.0</td>\n",
       "      <td>1.0</td>\n",
       "      <td>6.0</td>\n",
       "      <td>1.0</td>\n",
       "      <td>0.0</td>\n",
       "      <td>1.0</td>\n",
       "      <td>5.0</td>\n",
       "      <td>...</td>\n",
       "      <td>2.0</td>\n",
       "      <td>7.0</td>\n",
       "      <td>7.0</td>\n",
       "      <td>0.0</td>\n",
       "      <td>2.0</td>\n",
       "      <td>1.0</td>\n",
       "      <td>4.0</td>\n",
       "      <td>2.0</td>\n",
       "      <td>3.0</td>\n",
       "      <td>5.0</td>\n",
       "    </tr>\n",
       "    <tr>\n",
       "      <th>4</th>\n",
       "      <td>0.0</td>\n",
       "      <td>5.0</td>\n",
       "      <td>2.0</td>\n",
       "      <td>3.0</td>\n",
       "      <td>0.0</td>\n",
       "      <td>5.0</td>\n",
       "      <td>1.0</td>\n",
       "      <td>1.0</td>\n",
       "      <td>0.0</td>\n",
       "      <td>4.0</td>\n",
       "      <td>...</td>\n",
       "      <td>2.0</td>\n",
       "      <td>7.0</td>\n",
       "      <td>7.0</td>\n",
       "      <td>0.0</td>\n",
       "      <td>2.0</td>\n",
       "      <td>1.0</td>\n",
       "      <td>0.0</td>\n",
       "      <td>3.0</td>\n",
       "      <td>0.0</td>\n",
       "      <td>1.0</td>\n",
       "    </tr>\n",
       "  </tbody>\n",
       "</table>\n",
       "<p>5 rows × 23 columns</p>\n",
       "</div>"
      ],
      "text/plain": [
       "   class  cap-shape  cap-surface  cap-color  bruises  odor  gill-attachment  \\\n",
       "0    1.0        5.0          2.0        4.0      1.0   6.0              1.0   \n",
       "1    0.0        5.0          2.0        9.0      1.0   0.0              1.0   \n",
       "2    0.0        0.0          2.0        8.0      1.0   3.0              1.0   \n",
       "3    1.0        5.0          3.0        8.0      1.0   6.0              1.0   \n",
       "4    0.0        5.0          2.0        3.0      0.0   5.0              1.0   \n",
       "\n",
       "   gill-spacing  gill-size  gill-color  ...  stalk-surface-below-ring  \\\n",
       "0           0.0        1.0         4.0  ...                       2.0   \n",
       "1           0.0        0.0         4.0  ...                       2.0   \n",
       "2           0.0        0.0         5.0  ...                       2.0   \n",
       "3           0.0        1.0         5.0  ...                       2.0   \n",
       "4           1.0        0.0         4.0  ...                       2.0   \n",
       "\n",
       "   stalk-color-above-ring  stalk-color-below-ring  veil-type  veil-color  \\\n",
       "0                     7.0                     7.0        0.0         2.0   \n",
       "1                     7.0                     7.0        0.0         2.0   \n",
       "2                     7.0                     7.0        0.0         2.0   \n",
       "3                     7.0                     7.0        0.0         2.0   \n",
       "4                     7.0                     7.0        0.0         2.0   \n",
       "\n",
       "   ring-number  ring-type  spore-print-color  population  habitat  \n",
       "0          1.0        4.0                2.0         3.0      5.0  \n",
       "1          1.0        4.0                3.0         2.0      1.0  \n",
       "2          1.0        4.0                3.0         2.0      3.0  \n",
       "3          1.0        4.0                2.0         3.0      5.0  \n",
       "4          1.0        0.0                3.0         0.0      1.0  \n",
       "\n",
       "[5 rows x 23 columns]"
      ]
     },
     "execution_count": 16,
     "metadata": {},
     "output_type": "execute_result"
    }
   ],
   "source": [
    "mush_data.head()"
   ]
  },
  {
   "cell_type": "code",
   "execution_count": 17,
   "metadata": {
    "execution": {
     "iopub.execute_input": "2022-09-09T11:02:31.500224Z",
     "iopub.status.busy": "2022-09-09T11:02:31.499806Z",
     "iopub.status.idle": "2022-09-09T11:02:31.519521Z",
     "shell.execute_reply": "2022-09-09T11:02:31.518545Z",
     "shell.execute_reply.started": "2022-09-09T11:02:31.500192Z"
    }
   },
   "outputs": [
    {
     "data": {
      "text/plain": [
       "0     0.001271\n",
       "1     0.011497\n",
       "2     0.006990\n",
       "3     0.025690\n",
       "4     0.000965\n",
       "5     0.016430\n",
       "6     0.000211\n",
       "7     0.000547\n",
       "8     0.000861\n",
       "9     0.044827\n",
       "10    0.001059\n",
       "11    0.004429\n",
       "12    0.001488\n",
       "13    0.001689\n",
       "14    0.014572\n",
       "15    0.014733\n",
       "16    0.000000\n",
       "17    0.000651\n",
       "18    0.000306\n",
       "19    0.013025\n",
       "20    0.022355\n",
       "21    0.009664\n",
       "22    0.012707\n",
       "dtype: float64"
      ]
     },
     "execution_count": 17,
     "metadata": {},
     "output_type": "execute_result"
    }
   ],
   "source": [
    "from sklearn.preprocessing import normalize\n",
    "normalize = normalize(mush_data)\n",
    "data_scaled = pd.DataFrame(normalize)\n",
    "data_scaled.var()"
   ]
  },
  {
   "cell_type": "code",
   "execution_count": 18,
   "metadata": {
    "execution": {
     "iopub.execute_input": "2022-09-09T11:15:44.090056Z",
     "iopub.status.busy": "2022-09-09T11:15:44.089579Z",
     "iopub.status.idle": "2022-09-09T11:15:44.526115Z",
     "shell.execute_reply": "2022-09-09T11:15:44.524937Z",
     "shell.execute_reply.started": "2022-09-09T11:15:44.090017Z"
    }
   },
   "outputs": [
    {
     "data": {
      "text/plain": [
       "<Figure size 1400x600 with 0 Axes>"
      ]
     },
     "metadata": {},
     "output_type": "display_data"
    },
    {
     "data": {
      "image/png": "[encoded data removed]",
      "text/plain": [
       "<Figure size 2471.61x400 with 2 Axes>"
      ]
     },
     "metadata": {},
     "output_type": "display_data"
    }
   ],
   "source": [
    "plt.figure(figsize=(14,6))\n",
    "g = sns.catplot(x=\"veil-color\", hue=\"veil-type\", col=\"class\",\n",
    "                data=mush_temp, kind=\"count\",\n",
    "                height=4,aspect=3)\n"
   ]
  },
  {
   "cell_type": "code",
   "execution_count": 19,
   "metadata": {
    "execution": {
     "iopub.execute_input": "2022-09-09T11:19:37.486894Z",
     "iopub.status.busy": "2022-09-09T11:19:37.486476Z",
     "iopub.status.idle": "2022-09-09T11:19:37.986860Z",
     "shell.execute_reply": "2022-09-09T11:19:37.985928Z",
     "shell.execute_reply.started": "2022-09-09T11:19:37.486845Z"
    }
   },
   "outputs": [
    {
     "data": {
      "text/plain": [
       "<Figure size 1400x600 with 0 Axes>"
      ]
     },
     "metadata": {},
     "output_type": "display_data"
    },
    {
     "data": {
      "image/png": "[encoded data removed]",
      "text/plain": [
       "<Figure size 2497.36x400 with 2 Axes>"
      ]
     },
     "metadata": {},
     "output_type": "display_data"
    }
   ],
   "source": [
    "plt.figure(figsize=(14,6))\n",
    "g = sns.catplot(x=\"ring-type\", hue=\"ring-number\", col=\"class\",\n",
    "                data=mush_temp, kind=\"count\",\n",
    "                height=4,aspect=3)\n"
   ]
  },
  {
   "cell_type": "code",
   "execution_count": 20,
   "metadata": {
    "execution": {
     "iopub.execute_input": "2022-09-09T11:25:18.199711Z",
     "iopub.status.busy": "2022-09-09T11:25:18.199267Z",
     "iopub.status.idle": "2022-09-09T11:25:18.593005Z",
     "shell.execute_reply": "2022-09-09T11:25:18.591814Z",
     "shell.execute_reply.started": "2022-09-09T11:25:18.199665Z"
    }
   },
   "outputs": [
    {
     "data": {
      "text/plain": [
       "<Figure size 1400x600 with 0 Axes>"
      ]
     },
     "metadata": {},
     "output_type": "display_data"
    },
    {
     "data": {
      "image/png": "[encoded data removed]",
      "text/plain": [
       "<Figure size 2517.36x400 with 2 Axes>"
      ]
     },
     "metadata": {},
     "output_type": "display_data"
    }
   ],
   "source": [
    "plt.figure(figsize=(14,6))\n",
    "g = sns.catplot(x=\"gill-spacing\", hue=\"gill-attachment\", col=\"class\",\n",
    "                data=mush_temp, kind=\"count\",\n",
    "                height=4,aspect=3)\n"
   ]
  },
  {
   "cell_type": "code",
   "execution_count": 21,
   "metadata": {
    "execution": {
     "iopub.execute_input": "2022-09-09T11:57:45.429055Z",
     "iopub.status.busy": "2022-09-09T11:57:45.428592Z",
     "iopub.status.idle": "2022-09-09T11:57:45.842242Z",
     "shell.execute_reply": "2022-09-09T11:57:45.840910Z",
     "shell.execute_reply.started": "2022-09-09T11:57:45.429022Z"
    }
   },
   "outputs": [
    {
     "data": {
      "text/plain": [
       "<Figure size 1400x600 with 0 Axes>"
      ]
     },
     "metadata": {},
     "output_type": "display_data"
    },
    {
     "data": {
      "image/png": "[encoded data removed]",
      "text/plain": [
       "<Figure size 2490.24x400 with 2 Axes>"
      ]
     },
     "metadata": {},
     "output_type": "display_data"
    }
   ],
   "source": [
    "plt.figure(figsize=(14,6))\n",
    "g = sns.catplot(x=\"gill-size\", hue=\"gill-spacing\", col=\"class\",\n",
    "                data=mush_temp, kind=\"count\",\n",
    "                height=4,aspect=3)\n"
   ]
  },
  {
   "cell_type": "code",
   "execution_count": 22,
   "metadata": {
    "execution": {
     "iopub.execute_input": "2022-09-09T11:47:48.284816Z",
     "iopub.status.busy": "2022-09-09T11:47:48.284382Z",
     "iopub.status.idle": "2022-09-09T11:47:48.758375Z",
     "shell.execute_reply": "2022-09-09T11:47:48.756461Z",
     "shell.execute_reply.started": "2022-09-09T11:47:48.284780Z"
    }
   },
   "outputs": [
    {
     "data": {
      "text/plain": [
       "<Figure size 1400x600 with 0 Axes>"
      ]
     },
     "metadata": {},
     "output_type": "display_data"
    },
    {
     "data": {
      "image/png": "[encoded data removed]",
      "text/plain": [
       "<Figure size 2477.24x400 with 2 Axes>"
      ]
     },
     "metadata": {},
     "output_type": "display_data"
    }
   ],
   "source": [
    "plt.figure(figsize=(14,6))\n",
    "g = sns.catplot(x=\"stalk-shape\", hue=\"stalk-root\", col=\"class\",\n",
    "                data=mush_temp, kind=\"count\",\n",
    "                height=4,aspect=3)\n"
   ]
  },
  {
   "cell_type": "markdown",
   "metadata": {},
   "source": []
  },
  {
   "cell_type": "code",
   "execution_count": 23,
   "metadata": {
    "execution": {
     "iopub.execute_input": "2022-09-09T11:54:26.487386Z",
     "iopub.status.busy": "2022-09-09T11:54:26.486464Z",
     "iopub.status.idle": "2022-09-09T11:54:26.919923Z",
     "shell.execute_reply": "2022-09-09T11:54:26.918896Z",
     "shell.execute_reply.started": "2022-09-09T11:54:26.487343Z"
    }
   },
   "outputs": [
    {
     "data": {
      "text/plain": [
       "<Figure size 1400x600 with 0 Axes>"
      ]
     },
     "metadata": {},
     "output_type": "display_data"
    },
    {
     "data": {
      "image/png": "[encoded data removed]",
      "text/plain": [
       "<Figure size 2491.11x400 with 2 Axes>"
      ]
     },
     "metadata": {},
     "output_type": "display_data"
    }
   ],
   "source": [
    "plt.figure(figsize=(14,6))\n",
    "g = sns.catplot(x=\"stalk-surface-above-ring\", hue=\"stalk-shape\", col=\"class\",\n",
    "                data=mush_temp, kind=\"count\",\n",
    "                height=4,aspect=3)\n"
   ]
  },
  {
   "cell_type": "code",
   "execution_count": 24,
   "metadata": {
    "execution": {
     "iopub.execute_input": "2022-09-09T12:26:00.657932Z",
     "iopub.status.busy": "2022-09-09T12:26:00.657498Z",
     "iopub.status.idle": "2022-09-09T12:26:00.669596Z",
     "shell.execute_reply": "2022-09-09T12:26:00.668173Z",
     "shell.execute_reply.started": "2022-09-09T12:26:00.657900Z"
    }
   },
   "outputs": [],
   "source": [
    "x = mush_data.drop(['class'], axis=1)\n",
    "y = mush_data['class']"
   ]
  },
  {
   "cell_type": "code",
   "execution_count": 25,
   "metadata": {
    "execution": {
     "iopub.execute_input": "2022-09-09T12:26:14.057590Z",
     "iopub.status.busy": "2022-09-09T12:26:14.057202Z",
     "iopub.status.idle": "2022-09-09T12:26:14.087712Z",
     "shell.execute_reply": "2022-09-09T12:26:14.086434Z",
     "shell.execute_reply.started": "2022-09-09T12:26:14.057559Z"
    }
   },
   "outputs": [
    {
     "data": {
      "text/html": [
       "<div>\n",
       "<style scoped>\n",
       "    .dataframe tbody tr th:only-of-type {\n",
       "        vertical-align: middle;\n",
       "    }\n",
       "\n",
       "    .dataframe tbody tr th {\n",
       "        vertical-align: top;\n",
       "    }\n",
       "\n",
       "    .dataframe thead th {\n",
       "        text-align: right;\n",
       "    }\n",
       "</style>\n",
       "<table border=\"1\" class=\"dataframe\">\n",
       "  <thead>\n",
       "    <tr style=\"text-align: right;\">\n",
       "      <th></th>\n",
       "      <th>cap-shape</th>\n",
       "      <th>cap-surface</th>\n",
       "      <th>cap-color</th>\n",
       "      <th>bruises</th>\n",
       "      <th>odor</th>\n",
       "      <th>gill-attachment</th>\n",
       "      <th>gill-spacing</th>\n",
       "      <th>gill-size</th>\n",
       "      <th>gill-color</th>\n",
       "      <th>stalk-shape</th>\n",
       "      <th>...</th>\n",
       "      <th>stalk-surface-below-ring</th>\n",
       "      <th>stalk-color-above-ring</th>\n",
       "      <th>stalk-color-below-ring</th>\n",
       "      <th>veil-type</th>\n",
       "      <th>veil-color</th>\n",
       "      <th>ring-number</th>\n",
       "      <th>ring-type</th>\n",
       "      <th>spore-print-color</th>\n",
       "      <th>population</th>\n",
       "      <th>habitat</th>\n",
       "    </tr>\n",
       "  </thead>\n",
       "  <tbody>\n",
       "    <tr>\n",
       "      <th>0</th>\n",
       "      <td>5.0</td>\n",
       "      <td>2.0</td>\n",
       "      <td>4.0</td>\n",
       "      <td>1.0</td>\n",
       "      <td>6.0</td>\n",
       "      <td>1.0</td>\n",
       "      <td>0.0</td>\n",
       "      <td>1.0</td>\n",
       "      <td>4.0</td>\n",
       "      <td>0.0</td>\n",
       "      <td>...</td>\n",
       "      <td>2.0</td>\n",
       "      <td>7.0</td>\n",
       "      <td>7.0</td>\n",
       "      <td>0.0</td>\n",
       "      <td>2.0</td>\n",
       "      <td>1.0</td>\n",
       "      <td>4.0</td>\n",
       "      <td>2.0</td>\n",
       "      <td>3.0</td>\n",
       "      <td>5.0</td>\n",
       "    </tr>\n",
       "    <tr>\n",
       "      <th>1</th>\n",
       "      <td>5.0</td>\n",
       "      <td>2.0</td>\n",
       "      <td>9.0</td>\n",
       "      <td>1.0</td>\n",
       "      <td>0.0</td>\n",
       "      <td>1.0</td>\n",
       "      <td>0.0</td>\n",
       "      <td>0.0</td>\n",
       "      <td>4.0</td>\n",
       "      <td>0.0</td>\n",
       "      <td>...</td>\n",
       "      <td>2.0</td>\n",
       "      <td>7.0</td>\n",
       "      <td>7.0</td>\n",
       "      <td>0.0</td>\n",
       "      <td>2.0</td>\n",
       "      <td>1.0</td>\n",
       "      <td>4.0</td>\n",
       "      <td>3.0</td>\n",
       "      <td>2.0</td>\n",
       "      <td>1.0</td>\n",
       "    </tr>\n",
       "    <tr>\n",
       "      <th>2</th>\n",
       "      <td>0.0</td>\n",
       "      <td>2.0</td>\n",
       "      <td>8.0</td>\n",
       "      <td>1.0</td>\n",
       "      <td>3.0</td>\n",
       "      <td>1.0</td>\n",
       "      <td>0.0</td>\n",
       "      <td>0.0</td>\n",
       "      <td>5.0</td>\n",
       "      <td>0.0</td>\n",
       "      <td>...</td>\n",
       "      <td>2.0</td>\n",
       "      <td>7.0</td>\n",
       "      <td>7.0</td>\n",
       "      <td>0.0</td>\n",
       "      <td>2.0</td>\n",
       "      <td>1.0</td>\n",
       "      <td>4.0</td>\n",
       "      <td>3.0</td>\n",
       "      <td>2.0</td>\n",
       "      <td>3.0</td>\n",
       "    </tr>\n",
       "    <tr>\n",
       "      <th>3</th>\n",
       "      <td>5.0</td>\n",
       "      <td>3.0</td>\n",
       "      <td>8.0</td>\n",
       "      <td>1.0</td>\n",
       "      <td>6.0</td>\n",
       "      <td>1.0</td>\n",
       "      <td>0.0</td>\n",
       "      <td>1.0</td>\n",
       "      <td>5.0</td>\n",
       "      <td>0.0</td>\n",
       "      <td>...</td>\n",
       "      <td>2.0</td>\n",
       "      <td>7.0</td>\n",
       "      <td>7.0</td>\n",
       "      <td>0.0</td>\n",
       "      <td>2.0</td>\n",
       "      <td>1.0</td>\n",
       "      <td>4.0</td>\n",
       "      <td>2.0</td>\n",
       "      <td>3.0</td>\n",
       "      <td>5.0</td>\n",
       "    </tr>\n",
       "    <tr>\n",
       "      <th>4</th>\n",
       "      <td>5.0</td>\n",
       "      <td>2.0</td>\n",
       "      <td>3.0</td>\n",
       "      <td>0.0</td>\n",
       "      <td>5.0</td>\n",
       "      <td>1.0</td>\n",
       "      <td>1.0</td>\n",
       "      <td>0.0</td>\n",
       "      <td>4.0</td>\n",
       "      <td>1.0</td>\n",
       "      <td>...</td>\n",
       "      <td>2.0</td>\n",
       "      <td>7.0</td>\n",
       "      <td>7.0</td>\n",
       "      <td>0.0</td>\n",
       "      <td>2.0</td>\n",
       "      <td>1.0</td>\n",
       "      <td>0.0</td>\n",
       "      <td>3.0</td>\n",
       "      <td>0.0</td>\n",
       "      <td>1.0</td>\n",
       "    </tr>\n",
       "  </tbody>\n",
       "</table>\n",
       "<p>5 rows × 22 columns</p>\n",
       "</div>"
      ],
      "text/plain": [
       "   cap-shape  cap-surface  cap-color  bruises  odor  gill-attachment  \\\n",
       "0        5.0          2.0        4.0      1.0   6.0              1.0   \n",
       "1        5.0          2.0        9.0      1.0   0.0              1.0   \n",
       "2        0.0          2.0        8.0      1.0   3.0              1.0   \n",
       "3        5.0          3.0        8.0      1.0   6.0              1.0   \n",
       "4        5.0          2.0        3.0      0.0   5.0              1.0   \n",
       "\n",
       "   gill-spacing  gill-size  gill-color  stalk-shape  ...  \\\n",
       "0           0.0        1.0         4.0          0.0  ...   \n",
       "1           0.0        0.0         4.0          0.0  ...   \n",
       "2           0.0        0.0         5.0          0.0  ...   \n",
       "3           0.0        1.0         5.0          0.0  ...   \n",
       "4           1.0        0.0         4.0          1.0  ...   \n",
       "\n",
       "   stalk-surface-below-ring  stalk-color-above-ring  stalk-color-below-ring  \\\n",
       "0                       2.0                     7.0                     7.0   \n",
       "1                       2.0                     7.0                     7.0   \n",
       "2                       2.0                     7.0                     7.0   \n",
       "3                       2.0                     7.0                     7.0   \n",
       "4                       2.0                     7.0                     7.0   \n",
       "\n",
       "   veil-type  veil-color  ring-number  ring-type  spore-print-color  \\\n",
       "0        0.0         2.0          1.0        4.0                2.0   \n",
       "1        0.0         2.0          1.0        4.0                3.0   \n",
       "2        0.0         2.0          1.0        4.0                3.0   \n",
       "3        0.0         2.0          1.0        4.0                2.0   \n",
       "4        0.0         2.0          1.0        0.0                3.0   \n",
       "\n",
       "   population  habitat  \n",
       "0         3.0      5.0  \n",
       "1         2.0      1.0  \n",
       "2         2.0      3.0  \n",
       "3         3.0      5.0  \n",
       "4         0.0      1.0  \n",
       "\n",
       "[5 rows x 22 columns]"
      ]
     },
     "execution_count": 25,
     "metadata": {},
     "output_type": "execute_result"
    }
   ],
   "source": [
    "x.head()"
   ]
  },
  {
   "cell_type": "code",
   "execution_count": 26,
   "metadata": {
    "execution": {
     "iopub.execute_input": "2022-09-09T12:26:21.361815Z",
     "iopub.status.busy": "2022-09-09T12:26:21.361235Z",
     "iopub.status.idle": "2022-09-09T12:26:21.370923Z",
     "shell.execute_reply": "2022-09-09T12:26:21.369671Z",
     "shell.execute_reply.started": "2022-09-09T12:26:21.361776Z"
    }
   },
   "outputs": [
    {
     "data": {
      "text/plain": [
       "0    1.0\n",
       "1    0.0\n",
       "2    0.0\n",
       "3    1.0\n",
       "4    0.0\n",
       "Name: class, dtype: float64"
      ]
     },
     "execution_count": 26,
     "metadata": {},
     "output_type": "execute_result"
    }
   ],
   "source": [
    "y.head()"
   ]
  },
  {
   "cell_type": "code",
   "execution_count": 27,
   "metadata": {
    "execution": {
     "iopub.execute_input": "2022-09-09T12:27:16.280826Z",
     "iopub.status.busy": "2022-09-09T12:27:16.280441Z",
     "iopub.status.idle": "2022-09-09T12:27:16.340729Z",
     "shell.execute_reply": "2022-09-09T12:27:16.339931Z",
     "shell.execute_reply.started": "2022-09-09T12:27:16.280797Z"
    }
   },
   "outputs": [],
   "source": [
    "from sklearn.model_selection import train_test_split"
   ]
  },
  {
   "cell_type": "code",
   "execution_count": 28,
   "metadata": {
    "execution": {
     "iopub.execute_input": "2022-09-09T12:27:30.170737Z",
     "iopub.status.busy": "2022-09-09T12:27:30.170292Z",
     "iopub.status.idle": "2022-09-09T12:27:30.180257Z",
     "shell.execute_reply": "2022-09-09T12:27:30.179324Z",
     "shell.execute_reply.started": "2022-09-09T12:27:30.170702Z"
    }
   },
   "outputs": [],
   "source": [
    "X_train, X_test, y_train, y_test = train_test_split(x, \n",
    "                                                    y, \n",
    "                                                    test_size=0.3,\n",
    "                                                    random_state=42)"
   ]
  },
  {
   "cell_type": "code",
   "execution_count": 29,
   "metadata": {
    "execution": {
     "iopub.execute_input": "2022-09-09T12:27:44.275114Z",
     "iopub.status.busy": "2022-09-09T12:27:44.274669Z",
     "iopub.status.idle": "2022-09-09T12:27:44.282850Z",
     "shell.execute_reply": "2022-09-09T12:27:44.281390Z",
     "shell.execute_reply.started": "2022-09-09T12:27:44.275077Z"
    }
   },
   "outputs": [
    {
     "data": {
      "text/plain": [
       "((5686, 22), (2438, 22))"
      ]
     },
     "execution_count": 29,
     "metadata": {},
     "output_type": "execute_result"
    }
   ],
   "source": [
    "X_train.shape, X_test.shape"
   ]
  },
  {
   "cell_type": "code",
   "execution_count": 30,
   "metadata": {
    "execution": {
     "iopub.execute_input": "2022-09-09T12:28:19.680627Z",
     "iopub.status.busy": "2022-09-09T12:28:19.680186Z",
     "iopub.status.idle": "2022-09-09T12:28:19.690391Z",
     "shell.execute_reply": "2022-09-09T12:28:19.686440Z",
     "shell.execute_reply.started": "2022-09-09T12:28:19.680594Z"
    }
   },
   "outputs": [
    {
     "data": {
      "text/plain": [
       "((5686,), (2438,))"
      ]
     },
     "execution_count": 30,
     "metadata": {},
     "output_type": "execute_result"
    }
   ],
   "source": [
    "y_train.shape, y_test.shape"
   ]
  },
  {
   "cell_type": "code",
   "execution_count": 31,
   "metadata": {
    "execution": {
     "iopub.execute_input": "2022-09-09T12:30:21.372460Z",
     "iopub.status.busy": "2022-09-09T12:30:21.371115Z",
     "iopub.status.idle": "2022-09-09T12:30:23.629814Z",
     "shell.execute_reply": "2022-09-09T12:30:23.627718Z",
     "shell.execute_reply.started": "2022-09-09T12:30:21.372388Z"
    }
   },
   "outputs": [
    {
     "data": {
      "image/png": "[encoded data removed]",
      "text/plain": [
       "<Figure size 640x480 with 1 Axes>"
      ]
     },
     "metadata": {},
     "output_type": "display_data"
    }
   ],
   "source": [
    "from sklearn.ensemble import RandomForestClassifier\n",
    "\n",
    "\n",
    "\n",
    "forest = RandomForestClassifier(n_estimators=500,\n",
    "                                random_state=1)\n",
    "\n",
    "forest.fit(X_train, y_train)\n",
    "importances = forest.feature_importances_\n",
    "\n",
    "indices = np.argsort(importances)[::-1]\n",
    "\n",
    "plt.ylabel('Feature importance')\n",
    "plt.bar(range(X_train.shape[1]), \n",
    "        importances[indices],\n",
    "        align='center')\n",
    "\n",
    "feat_labels = mush_data.columns[1:]\n",
    "plt.xticks(range(X_train.shape[1]), \n",
    "           feat_labels[indices], rotation=90)\n",
    "\n",
    "plt.xlim([-1, X_train.shape[1]])\n",
    "\n",
    "plt.tight_layout()\n",
    "plt.savefig('feature-importance.pdf', dpi=300)\n",
    "plt.show()"
   ]
  },
  {
   "cell_type": "code",
   "execution_count": 32,
   "metadata": {
    "execution": {
     "iopub.execute_input": "2022-09-09T13:08:21.238013Z",
     "iopub.status.busy": "2022-09-09T13:08:21.237547Z",
     "iopub.status.idle": "2022-09-09T13:08:21.244331Z",
     "shell.execute_reply": "2022-09-09T13:08:21.242922Z",
     "shell.execute_reply.started": "2022-09-09T13:08:21.237977Z"
    }
   },
   "outputs": [
    {
     "name": "stdout",
     "output_type": "stream",
     "text": [
      "['class', 'cap-shape', 'cap-surface', 'cap-color', 'bruises', 'odor', 'gill-attachment', 'gill-spacing', 'gill-size', 'gill-color', 'stalk-shape', 'stalk-root', 'stalk-surface-above-ring', 'stalk-surface-below-ring', 'stalk-color-above-ring', 'stalk-color-below-ring', 'veil-type', 'veil-color', 'ring-number', 'ring-type', 'spore-print-color', 'population', 'habitat']\n"
     ]
    }
   ],
   "source": [
    "cols = [col for col in mush_data]\n",
    "print(cols)"
   ]
  },
  {
   "cell_type": "code",
   "execution_count": 33,
   "metadata": {
    "execution": {
     "iopub.execute_input": "2022-09-09T13:23:12.579130Z",
     "iopub.status.busy": "2022-09-09T13:23:12.578160Z",
     "iopub.status.idle": "2022-09-09T13:23:12.590462Z",
     "shell.execute_reply": "2022-09-09T13:23:12.589114Z",
     "shell.execute_reply.started": "2022-09-09T13:23:12.579093Z"
    }
   },
   "outputs": [
    {
     "data": {
      "text/plain": [
       "(8124, 11)"
      ]
     },
     "execution_count": 33,
     "metadata": {},
     "output_type": "execute_result"
    }
   ],
   "source": [
    "new_mush = mush_data.drop(['veil-type','veil-color','gill-attachment','stalk-color-above-ring','stalk-color-below-ring','gill-spacing','habitat','ring-number','stalk-shape','cap-surface','stalk-surface-above-ring','stalk-surface-below-ring'], axis=1)\n",
    "new_mush.shape"
   ]
  },
  {
   "cell_type": "code",
   "execution_count": 34,
   "metadata": {
    "execution": {
     "iopub.execute_input": "2022-09-09T13:23:17.618256Z",
     "iopub.status.busy": "2022-09-09T13:23:17.617405Z",
     "iopub.status.idle": "2022-09-09T13:23:17.623331Z",
     "shell.execute_reply": "2022-09-09T13:23:17.622602Z",
     "shell.execute_reply.started": "2022-09-09T13:23:17.618216Z"
    }
   },
   "outputs": [
    {
     "name": "stdout",
     "output_type": "stream",
     "text": [
      "class\n",
      "cap-shape\n",
      "cap-color\n",
      "bruises\n",
      "odor\n",
      "gill-size\n",
      "gill-color\n",
      "stalk-root\n",
      "ring-type\n",
      "spore-print-color\n",
      "population\n"
     ]
    }
   ],
   "source": [
    "for col in new_mush:\n",
    "    print(col)"
   ]
  },
  {
   "cell_type": "code",
   "execution_count": 35,
   "metadata": {
    "execution": {
     "iopub.execute_input": "2022-09-09T13:26:10.273346Z",
     "iopub.status.busy": "2022-09-09T13:26:10.272390Z",
     "iopub.status.idle": "2022-09-09T13:26:10.277696Z",
     "shell.execute_reply": "2022-09-09T13:26:10.276687Z",
     "shell.execute_reply.started": "2022-09-09T13:26:10.273317Z"
    }
   },
   "outputs": [],
   "source": [
    "from sklearn.tree import DecisionTreeClassifier\n",
    "from sklearn.metrics import accuracy_score"
   ]
  },
  {
   "cell_type": "code",
   "execution_count": 36,
   "metadata": {
    "execution": {
     "iopub.execute_input": "2022-09-09T13:53:08.506954Z",
     "iopub.status.busy": "2022-09-09T13:53:08.506533Z",
     "iopub.status.idle": "2022-09-09T13:53:08.525628Z",
     "shell.execute_reply": "2022-09-09T13:53:08.524630Z",
     "shell.execute_reply.started": "2022-09-09T13:53:08.506921Z"
    }
   },
   "outputs": [
    {
     "data": {
      "text/plain": [
       "0.7883511074651354"
      ]
     },
     "execution_count": 36,
     "metadata": {},
     "output_type": "execute_result"
    }
   ],
   "source": [
    "dtc = DecisionTreeClassifier(random_state=0, max_depth = 1)\n",
    "dtc.fit(X_train,y_train)\n",
    "\n",
    "y_predict = dtc.predict(X_test)\n",
    "accuracy_score(y_predict,y_test)"
   ]
  },
  {
   "cell_type": "code",
   "execution_count": 37,
   "metadata": {
    "execution": {
     "iopub.execute_input": "2022-09-09T13:53:02.250754Z",
     "iopub.status.busy": "2022-09-09T13:53:02.249563Z",
     "iopub.status.idle": "2022-09-09T13:53:02.464790Z",
     "shell.execute_reply": "2022-09-09T13:53:02.463113Z",
     "shell.execute_reply.started": "2022-09-09T13:53:02.250671Z"
    }
   },
   "outputs": [
    {
     "data": {
      "text/plain": [
       "0.8802296964725185"
      ]
     },
     "execution_count": 37,
     "metadata": {},
     "output_type": "execute_result"
    }
   ],
   "source": [
    "from sklearn.ensemble import RandomForestClassifier\n",
    "rfc = RandomForestClassifier(random_state=0, max_depth = 1)\n",
    "rfc.fit(X_train,y_train)\n",
    "y_pred2 = rfc.predict(X_test)\n",
    "accuracy_score(y_pred2,y_test)"
   ]
  },
  {
   "cell_type": "code",
   "execution_count": 38,
   "metadata": {
    "execution": {
     "iopub.execute_input": "2022-09-09T13:27:28.717221Z",
     "iopub.status.busy": "2022-09-09T13:27:28.716843Z",
     "iopub.status.idle": "2022-09-09T13:27:28.723921Z",
     "shell.execute_reply": "2022-09-09T13:27:28.723127Z",
     "shell.execute_reply.started": "2022-09-09T13:27:28.717196Z"
    }
   },
   "outputs": [],
   "source": [
    "x2 = new_mush.drop(['class'], axis=1)\n",
    "y2 = new_mush['class']"
   ]
  },
  {
   "cell_type": "code",
   "execution_count": 39,
   "metadata": {
    "execution": {
     "iopub.execute_input": "2022-09-09T13:28:04.046120Z",
     "iopub.status.busy": "2022-09-09T13:28:04.044714Z",
     "iopub.status.idle": "2022-09-09T13:28:04.063623Z",
     "shell.execute_reply": "2022-09-09T13:28:04.062941Z",
     "shell.execute_reply.started": "2022-09-09T13:28:04.046062Z"
    }
   },
   "outputs": [
    {
     "data": {
      "text/html": [
       "<div>\n",
       "<style scoped>\n",
       "    .dataframe tbody tr th:only-of-type {\n",
       "        vertical-align: middle;\n",
       "    }\n",
       "\n",
       "    .dataframe tbody tr th {\n",
       "        vertical-align: top;\n",
       "    }\n",
       "\n",
       "    .dataframe thead th {\n",
       "        text-align: right;\n",
       "    }\n",
       "</style>\n",
       "<table border=\"1\" class=\"dataframe\">\n",
       "  <thead>\n",
       "    <tr style=\"text-align: right;\">\n",
       "      <th></th>\n",
       "      <th>cap-shape</th>\n",
       "      <th>cap-color</th>\n",
       "      <th>bruises</th>\n",
       "      <th>odor</th>\n",
       "      <th>gill-size</th>\n",
       "      <th>gill-color</th>\n",
       "      <th>stalk-root</th>\n",
       "      <th>ring-type</th>\n",
       "      <th>spore-print-color</th>\n",
       "      <th>population</th>\n",
       "    </tr>\n",
       "  </thead>\n",
       "  <tbody>\n",
       "    <tr>\n",
       "      <th>0</th>\n",
       "      <td>5.0</td>\n",
       "      <td>4.0</td>\n",
       "      <td>1.0</td>\n",
       "      <td>6.0</td>\n",
       "      <td>1.0</td>\n",
       "      <td>4.0</td>\n",
       "      <td>3.0</td>\n",
       "      <td>4.0</td>\n",
       "      <td>2.0</td>\n",
       "      <td>3.0</td>\n",
       "    </tr>\n",
       "    <tr>\n",
       "      <th>1</th>\n",
       "      <td>5.0</td>\n",
       "      <td>9.0</td>\n",
       "      <td>1.0</td>\n",
       "      <td>0.0</td>\n",
       "      <td>0.0</td>\n",
       "      <td>4.0</td>\n",
       "      <td>2.0</td>\n",
       "      <td>4.0</td>\n",
       "      <td>3.0</td>\n",
       "      <td>2.0</td>\n",
       "    </tr>\n",
       "    <tr>\n",
       "      <th>2</th>\n",
       "      <td>0.0</td>\n",
       "      <td>8.0</td>\n",
       "      <td>1.0</td>\n",
       "      <td>3.0</td>\n",
       "      <td>0.0</td>\n",
       "      <td>5.0</td>\n",
       "      <td>2.0</td>\n",
       "      <td>4.0</td>\n",
       "      <td>3.0</td>\n",
       "      <td>2.0</td>\n",
       "    </tr>\n",
       "    <tr>\n",
       "      <th>3</th>\n",
       "      <td>5.0</td>\n",
       "      <td>8.0</td>\n",
       "      <td>1.0</td>\n",
       "      <td>6.0</td>\n",
       "      <td>1.0</td>\n",
       "      <td>5.0</td>\n",
       "      <td>3.0</td>\n",
       "      <td>4.0</td>\n",
       "      <td>2.0</td>\n",
       "      <td>3.0</td>\n",
       "    </tr>\n",
       "    <tr>\n",
       "      <th>4</th>\n",
       "      <td>5.0</td>\n",
       "      <td>3.0</td>\n",
       "      <td>0.0</td>\n",
       "      <td>5.0</td>\n",
       "      <td>0.0</td>\n",
       "      <td>4.0</td>\n",
       "      <td>3.0</td>\n",
       "      <td>0.0</td>\n",
       "      <td>3.0</td>\n",
       "      <td>0.0</td>\n",
       "    </tr>\n",
       "  </tbody>\n",
       "</table>\n",
       "</div>"
      ],
      "text/plain": [
       "   cap-shape  cap-color  bruises  odor  gill-size  gill-color  stalk-root  \\\n",
       "0        5.0        4.0      1.0   6.0        1.0         4.0         3.0   \n",
       "1        5.0        9.0      1.0   0.0        0.0         4.0         2.0   \n",
       "2        0.0        8.0      1.0   3.0        0.0         5.0         2.0   \n",
       "3        5.0        8.0      1.0   6.0        1.0         5.0         3.0   \n",
       "4        5.0        3.0      0.0   5.0        0.0         4.0         3.0   \n",
       "\n",
       "   ring-type  spore-print-color  population  \n",
       "0        4.0                2.0         3.0  \n",
       "1        4.0                3.0         2.0  \n",
       "2        4.0                3.0         2.0  \n",
       "3        4.0                2.0         3.0  \n",
       "4        0.0                3.0         0.0  "
      ]
     },
     "execution_count": 39,
     "metadata": {},
     "output_type": "execute_result"
    }
   ],
   "source": [
    "x2.head()"
   ]
  },
  {
   "cell_type": "code",
   "execution_count": 40,
   "metadata": {
    "execution": {
     "iopub.execute_input": "2022-09-09T13:28:19.014125Z",
     "iopub.status.busy": "2022-09-09T13:28:19.013585Z",
     "iopub.status.idle": "2022-09-09T13:28:19.021800Z",
     "shell.execute_reply": "2022-09-09T13:28:19.020927Z",
     "shell.execute_reply.started": "2022-09-09T13:28:19.014088Z"
    }
   },
   "outputs": [
    {
     "data": {
      "text/plain": [
       "0    1.0\n",
       "1    0.0\n",
       "2    0.0\n",
       "3    1.0\n",
       "4    0.0\n",
       "Name: class, dtype: float64"
      ]
     },
     "execution_count": 40,
     "metadata": {},
     "output_type": "execute_result"
    }
   ],
   "source": [
    "y2.head()"
   ]
  },
  {
   "cell_type": "code",
   "execution_count": 41,
   "metadata": {
    "execution": {
     "iopub.execute_input": "2022-09-09T14:03:08.639887Z",
     "iopub.status.busy": "2022-09-09T14:03:08.639445Z",
     "iopub.status.idle": "2022-09-09T14:03:08.648251Z",
     "shell.execute_reply": "2022-09-09T14:03:08.647213Z",
     "shell.execute_reply.started": "2022-09-09T14:03:08.639836Z"
    }
   },
   "outputs": [],
   "source": [
    "X2_train, X2_test, y2_train, y2_test = train_test_split(x2, \n",
    "                                                    y2, \n",
    "                                                    test_size=0.3,\n",
    "                                                    random_state=42)\n",
    "\n"
   ]
  },
  {
   "cell_type": "code",
   "execution_count": 42,
   "metadata": {
    "execution": {
     "iopub.execute_input": "2022-09-09T14:03:40.984005Z",
     "iopub.status.busy": "2022-09-09T14:03:40.983348Z",
     "iopub.status.idle": "2022-09-09T14:03:40.992736Z",
     "shell.execute_reply": "2022-09-09T14:03:40.991583Z",
     "shell.execute_reply.started": "2022-09-09T14:03:40.983963Z"
    }
   },
   "outputs": [
    {
     "data": {
      "text/plain": [
       "((5686, 10), (2438, 10))"
      ]
     },
     "execution_count": 42,
     "metadata": {},
     "output_type": "execute_result"
    }
   ],
   "source": [
    "X2_train.shape, X2_test.shape"
   ]
  },
  {
   "cell_type": "code",
   "execution_count": 43,
   "metadata": {
    "execution": {
     "iopub.execute_input": "2022-09-09T14:04:17.031857Z",
     "iopub.status.busy": "2022-09-09T14:04:17.030684Z",
     "iopub.status.idle": "2022-09-09T14:04:17.038153Z",
     "shell.execute_reply": "2022-09-09T14:04:17.037382Z",
     "shell.execute_reply.started": "2022-09-09T14:04:17.031819Z"
    }
   },
   "outputs": [
    {
     "data": {
      "text/plain": [
       "((5686,), (2438,))"
      ]
     },
     "execution_count": 43,
     "metadata": {},
     "output_type": "execute_result"
    }
   ],
   "source": [
    "y2_train.shape, y2_test.shape"
   ]
  },
  {
   "cell_type": "code",
   "execution_count": 44,
   "metadata": {
    "execution": {
     "iopub.execute_input": "2022-09-09T14:06:53.575340Z",
     "iopub.status.busy": "2022-09-09T14:06:53.574385Z",
     "iopub.status.idle": "2022-09-09T14:06:53.590110Z",
     "shell.execute_reply": "2022-09-09T14:06:53.589245Z",
     "shell.execute_reply.started": "2022-09-09T14:06:53.575303Z"
    }
   },
   "outputs": [
    {
     "data": {
      "text/plain": [
       "0.7883511074651354"
      ]
     },
     "execution_count": 44,
     "metadata": {},
     "output_type": "execute_result"
    }
   ],
   "source": [
    "dtc2 = DecisionTreeClassifier(random_state=0, max_depth = 1)\n",
    "dtc2.fit(X2_train,y2_train)\n",
    "\n",
    "y_predict2 = dtc2.predict(X2_test)\n",
    "accuracy_score(y_predict2,y2_test)"
   ]
  },
  {
   "cell_type": "code",
   "execution_count": 68,
   "metadata": {
    "execution": {
     "iopub.execute_input": "2022-09-09T14:07:45.719859Z",
     "iopub.status.busy": "2022-09-09T14:07:45.718767Z",
     "iopub.status.idle": "2022-09-09T14:07:45.941382Z",
     "shell.execute_reply": "2022-09-09T14:07:45.939649Z",
     "shell.execute_reply.started": "2022-09-09T14:07:45.719828Z"
    }
   },
   "outputs": [
    {
     "data": {
      "text/plain": [
       "0.9897456931911403"
      ]
     },
     "execution_count": 68,
     "metadata": {},
     "output_type": "execute_result"
    }
   ],
   "source": [
    "rfc2 = RandomForestClassifier(random_state=0, max_depth = 5)\n",
    "rfc2.fit(X2_train,y_train)\n",
    "y2_pred2 = rfc2.predict(X2_test)\n",
    "accuracy_score(y2_pred2,y2_test)"
   ]
  },
  {
   "cell_type": "code",
   "execution_count": 47,
   "metadata": {},
   "outputs": [
    {
     "data": {
      "text/html": [
       "<div>\n",
       "<style scoped>\n",
       "    .dataframe tbody tr th:only-of-type {\n",
       "        vertical-align: middle;\n",
       "    }\n",
       "\n",
       "    .dataframe tbody tr th {\n",
       "        vertical-align: top;\n",
       "    }\n",
       "\n",
       "    .dataframe thead th {\n",
       "        text-align: right;\n",
       "    }\n",
       "</style>\n",
       "<table border=\"1\" class=\"dataframe\">\n",
       "  <thead>\n",
       "    <tr style=\"text-align: right;\">\n",
       "      <th></th>\n",
       "      <th>cap-shape</th>\n",
       "      <th>cap-color</th>\n",
       "      <th>bruises</th>\n",
       "      <th>odor</th>\n",
       "      <th>gill-size</th>\n",
       "      <th>gill-color</th>\n",
       "      <th>stalk-root</th>\n",
       "      <th>ring-type</th>\n",
       "      <th>spore-print-color</th>\n",
       "      <th>population</th>\n",
       "    </tr>\n",
       "  </thead>\n",
       "  <tbody>\n",
       "    <tr>\n",
       "      <th>1971</th>\n",
       "      <td>2.0</td>\n",
       "      <td>4.0</td>\n",
       "      <td>0.0</td>\n",
       "      <td>5.0</td>\n",
       "      <td>0.0</td>\n",
       "      <td>3.0</td>\n",
       "      <td>3.0</td>\n",
       "      <td>0.0</td>\n",
       "      <td>3.0</td>\n",
       "      <td>3.0</td>\n",
       "    </tr>\n",
       "    <tr>\n",
       "      <th>6654</th>\n",
       "      <td>2.0</td>\n",
       "      <td>2.0</td>\n",
       "      <td>0.0</td>\n",
       "      <td>8.0</td>\n",
       "      <td>1.0</td>\n",
       "      <td>0.0</td>\n",
       "      <td>0.0</td>\n",
       "      <td>0.0</td>\n",
       "      <td>7.0</td>\n",
       "      <td>4.0</td>\n",
       "    </tr>\n",
       "    <tr>\n",
       "      <th>5606</th>\n",
       "      <td>5.0</td>\n",
       "      <td>4.0</td>\n",
       "      <td>0.0</td>\n",
       "      <td>2.0</td>\n",
       "      <td>1.0</td>\n",
       "      <td>0.0</td>\n",
       "      <td>0.0</td>\n",
       "      <td>0.0</td>\n",
       "      <td>7.0</td>\n",
       "      <td>4.0</td>\n",
       "    </tr>\n",
       "    <tr>\n",
       "      <th>3332</th>\n",
       "      <td>2.0</td>\n",
       "      <td>3.0</td>\n",
       "      <td>1.0</td>\n",
       "      <td>5.0</td>\n",
       "      <td>0.0</td>\n",
       "      <td>5.0</td>\n",
       "      <td>1.0</td>\n",
       "      <td>4.0</td>\n",
       "      <td>3.0</td>\n",
       "      <td>5.0</td>\n",
       "    </tr>\n",
       "    <tr>\n",
       "      <th>6988</th>\n",
       "      <td>2.0</td>\n",
       "      <td>2.0</td>\n",
       "      <td>0.0</td>\n",
       "      <td>7.0</td>\n",
       "      <td>1.0</td>\n",
       "      <td>0.0</td>\n",
       "      <td>0.0</td>\n",
       "      <td>0.0</td>\n",
       "      <td>7.0</td>\n",
       "      <td>4.0</td>\n",
       "    </tr>\n",
       "  </tbody>\n",
       "</table>\n",
       "</div>"
      ],
      "text/plain": [
       "      cap-shape  cap-color  bruises  odor  gill-size  gill-color  stalk-root  \\\n",
       "1971        2.0        4.0      0.0   5.0        0.0         3.0         3.0   \n",
       "6654        2.0        2.0      0.0   8.0        1.0         0.0         0.0   \n",
       "5606        5.0        4.0      0.0   2.0        1.0         0.0         0.0   \n",
       "3332        2.0        3.0      1.0   5.0        0.0         5.0         1.0   \n",
       "6988        2.0        2.0      0.0   7.0        1.0         0.0         0.0   \n",
       "\n",
       "      ring-type  spore-print-color  population  \n",
       "1971        0.0                3.0         3.0  \n",
       "6654        0.0                7.0         4.0  \n",
       "5606        0.0                7.0         4.0  \n",
       "3332        4.0                3.0         5.0  \n",
       "6988        0.0                7.0         4.0  "
      ]
     },
     "execution_count": 47,
     "metadata": {},
     "output_type": "execute_result"
    }
   ],
   "source": [
    "X2_test.head()"
   ]
  },
  {
   "cell_type": "code",
   "execution_count": 50,
   "metadata": {},
   "outputs": [
    {
     "data": {
      "text/plain": [
       "cap-shape            2.0\n",
       "cap-color            4.0\n",
       "bruises              0.0\n",
       "odor                 5.0\n",
       "gill-size            0.0\n",
       "gill-color           3.0\n",
       "stalk-root           3.0\n",
       "ring-type            0.0\n",
       "spore-print-color    3.0\n",
       "population           3.0\n",
       "Name: 1971, dtype: float64"
      ]
     },
     "execution_count": 50,
     "metadata": {},
     "output_type": "execute_result"
    }
   ],
   "source": [
    "X2_test.iloc[0]"
   ]
  },
  {
   "cell_type": "code",
   "execution_count": 63,
   "metadata": {},
   "outputs": [
    {
     "data": {
      "text/plain": [
       "(1, 10)"
      ]
     },
     "execution_count": 63,
     "metadata": {},
     "output_type": "execute_result"
    }
   ],
   "source": [
    "inp = x2.iloc[0].values.reshape(1, -1)\n",
    "inp.shape"
   ]
  },
  {
   "cell_type": "code",
   "execution_count": 70,
   "metadata": {},
   "outputs": [
    {
     "name": "stdout",
     "output_type": "stream",
     "text": [
      "[1.]\n"
     ]
    },
    {
     "name": "stderr",
     "output_type": "stream",
     "text": [
      "f:\\nishant\\ml\\miniproject\\mlmushroom_env\\mush_env\\lib\\site-packages\\sklearn\\base.py:450: UserWarning: X does not have valid feature names, but RandomForestClassifier was fitted with feature names\n",
      "  warnings.warn(\n"
     ]
    }
   ],
   "source": [
    "new_pred = rfc2.predict(inp)\n",
    "print(new_pred)"
   ]
  },
  {
   "cell_type": "code",
   "execution_count": 65,
   "metadata": {},
   "outputs": [
    {
     "data": {
      "text/plain": [
       "array([[5., 4., 1., 6., 1., 4., 3., 4., 2., 3.]])"
      ]
     },
     "execution_count": 65,
     "metadata": {},
     "output_type": "execute_result"
    }
   ],
   "source": [
    "inp"
   ]
  },
  {
   "cell_type": "code",
   "execution_count": 71,
   "metadata": {},
   "outputs": [],
   "source": [
    "import pickle\n",
    "with open('mushroom_model.pickle','wb') as f:\n",
    "    pickle.dump(rfc2,f)"
   ]
  },
  {
   "cell_type": "code",
   "execution_count": null,
   "metadata": {},
   "outputs": [],
   "source": []
  }
 ],
 "metadata": {
  "kernelspec": {
   "display_name": "mush_env",
   "language": "python",
   "name": "mush_env"
  },
  "language_info": {
   "codemirror_mode": {
    "name": "ipython",
    "version": 3
   },
   "file_extension": ".py",
   "mimetype": "text/x-python",
   "name": "python",
   "nbconvert_exporter": "python",
   "pygments_lexer": "ipython3",
   "version": "3.9.1"
  }
 },
 "nbformat": 4,
 "nbformat_minor": 4
}
